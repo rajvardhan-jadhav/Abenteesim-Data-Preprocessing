{
 "cells": [
  {
   "cell_type": "markdown",
   "id": "1d2fb2c5-e6b4-45b9-ae4c-5d005546b6ab",
   "metadata": {},
   "source": [
    "import pandas as pd\n",
    "import numpy as np"
   ]
  },
  {
   "cell_type": "code",
   "execution_count": null,
   "id": "75cab7f0-d2b6-4a0c-ba62-7c7c8e22b70a",
   "metadata": {},
   "outputs": [],
   "source": [
    "import numpy as np\n",
    "import pandas as pd"
   ]
  },
  {
   "cell_type": "code",
   "execution_count": null,
   "id": "37566538-7d22-42e8-8555-116b2eb162ed",
   "metadata": {},
   "outputs": [],
   "source": [
    "raw_data = pd.read_csv(\"Absenteeism-data.csv\")"
   ]
  },
  {
   "cell_type": "code",
   "execution_count": null,
   "id": "6ede7594-a135-48e7-a164-c7e0efed9095",
   "metadata": {},
   "outputs": [],
   "source": [
    "raw_data"
   ]
  },
  {
   "cell_type": "code",
   "execution_count": null,
   "id": "3ccd19e2-5028-4461-88a3-a23b95b6f5ca",
   "metadata": {},
   "outputs": [],
   "source": [
    "df = raw_data.copy()"
   ]
  },
  {
   "cell_type": "code",
   "execution_count": null,
   "id": "e3eaa8ec-094e-4a21-8330-96f102420dd2",
   "metadata": {},
   "outputs": [],
   "source": [
    "df"
   ]
  },
  {
   "cell_type": "code",
   "execution_count": null,
   "id": "f6eb6656-4d06-4ab9-9cc1-3d26afdc4928",
   "metadata": {},
   "outputs": [],
   "source": [
    "pd.set_option('display.max_rows', None)\n",
    "pd.set_option('display.max_columns', None)"
   ]
  },
  {
   "cell_type": "code",
   "execution_count": null,
   "id": "ea848e68-754d-4b4a-8673-9a759495d04b",
   "metadata": {},
   "outputs": [],
   "source": [
    "display(df)\n"
   ]
  },
  {
   "cell_type": "code",
   "execution_count": null,
   "id": "968aabc1-c7b0-47ae-8a3c-1913389b523d",
   "metadata": {},
   "outputs": [],
   "source": [
    "df.info()"
   ]
  },
  {
   "cell_type": "markdown",
   "id": "82c77661-49d7-4bff-a64f-f54009dc7ab1",
   "metadata": {},
   "source": [
    "Dropping ID column"
   ]
  },
  {
   "cell_type": "code",
   "execution_count": null,
   "id": "39363f44-a6b7-404d-b319-85cdf1c39295",
   "metadata": {},
   "outputs": [],
   "source": [
    "df = df.drop(['ID'], axis =1)"
   ]
  },
  {
   "cell_type": "code",
   "execution_count": null,
   "id": "9b983f2b-5af2-4448-8bb9-10311a1369c3",
   "metadata": {},
   "outputs": [],
   "source": [
    "df"
   ]
  },
  {
   "cell_type": "code",
   "execution_count": null,
   "id": "137c5c74-a56b-470c-a934-e99cbd20d902",
   "metadata": {},
   "outputs": [],
   "source": [
    "raw_data"
   ]
  },
  {
   "cell_type": "markdown",
   "id": "c7f524e4-6586-4b0f-900b-b2b8af5f1b89",
   "metadata": {},
   "source": [
    "Reason for Absence"
   ]
  },
  {
   "cell_type": "code",
   "execution_count": null,
   "id": "7872a9ce-8cec-4e02-9e0d-95342efd700d",
   "metadata": {},
   "outputs": [],
   "source": [
    "df['Reason for Absence'].max()"
   ]
  },
  {
   "cell_type": "code",
   "execution_count": null,
   "id": "d1f016cb-9b31-4b50-993a-ffa9b07a941e",
   "metadata": {},
   "outputs": [],
   "source": [
    "df['Reason for Absence'].min()"
   ]
  },
  {
   "cell_type": "code",
   "execution_count": null,
   "id": "0a5c265f-3edd-4c7e-9071-d31cd14c951b",
   "metadata": {},
   "outputs": [],
   "source": [
    "np.unique(df['Reason for Absence'])"
   ]
  },
  {
   "cell_type": "code",
   "execution_count": null,
   "id": "b1b02cab-8262-4268-9cbc-3529e73ef4c9",
   "metadata": {},
   "outputs": [],
   "source": [
    "len(np.unique(df['Reason for Absence']))"
   ]
  },
  {
   "cell_type": "markdown",
   "id": "887cf3ec-8fbe-4555-96b4-8f7a359a42aa",
   "metadata": {},
   "source": [
    ".get_dummies()"
   ]
  },
  {
   "cell_type": "code",
   "execution_count": null,
   "id": "868c3fb5-6bc1-45e7-b26a-e2b7d8f157e3",
   "metadata": {},
   "outputs": [],
   "source": [
    "reason_columns = pd.get_dummies(df['Reason for Absence'])"
   ]
  },
  {
   "cell_type": "code",
   "execution_count": null,
   "id": "83a18a35-f7f9-41ae-882e-572520a1f3cb",
   "metadata": {},
   "outputs": [],
   "source": [
    "reason_columns"
   ]
  },
  {
   "cell_type": "code",
   "execution_count": null,
   "id": "b633d65f-cf71-4b99-896d-9d100e1c6bb3",
   "metadata": {},
   "outputs": [],
   "source": [
    "reason_columns['check'] = reason_columns.sum(axis=1)"
   ]
  },
  {
   "cell_type": "code",
   "execution_count": null,
   "id": "c4aa8440-7c95-433b-9b34-34da1aa8cc4c",
   "metadata": {},
   "outputs": [],
   "source": [
    "reason_columns"
   ]
  },
  {
   "cell_type": "code",
   "execution_count": null,
   "id": "efea3df6-4d71-4591-a35b-30126cbe2bb2",
   "metadata": {},
   "outputs": [],
   "source": [
    "reason_columns['check'].unique()"
   ]
  },
  {
   "cell_type": "code",
   "execution_count": null,
   "id": "54833d89-a163-4e85-bbf1-8573c8990589",
   "metadata": {},
   "outputs": [],
   "source": [
    "reason_columns = reason_columns.drop(['check'], axis =1)"
   ]
  },
  {
   "cell_type": "code",
   "execution_count": null,
   "id": "8e5b351b-599d-46db-9928-834d31e639f3",
   "metadata": {},
   "outputs": [],
   "source": [
    "reason_columns"
   ]
  },
  {
   "cell_type": "code",
   "execution_count": null,
   "id": "d366bd60-fdfa-4fc0-a6ec-537d23930599",
   "metadata": {},
   "outputs": [],
   "source": [
    "reason_columns = pd.get_dummies(df['Reason for Absence'], drop_first =True)"
   ]
  },
  {
   "cell_type": "code",
   "execution_count": null,
   "id": "f6108b28-44c1-465c-88df-128b239eb4b6",
   "metadata": {},
   "outputs": [],
   "source": [
    "reason_columns"
   ]
  },
  {
   "cell_type": "markdown",
   "id": "03d15f88-d1e8-465b-9fb0-13e8803d9d99",
   "metadata": {},
   "source": [
    "Group Reason for Absence"
   ]
  },
  {
   "cell_type": "code",
   "execution_count": null,
   "id": "8245fa2e-05f7-4201-b9e9-0e2b12c85b6e",
   "metadata": {},
   "outputs": [],
   "source": [
    "df.columns.values"
   ]
  },
  {
   "cell_type": "code",
   "execution_count": null,
   "id": "f57528b6-4033-4d68-aef8-954f8f6068cd",
   "metadata": {},
   "outputs": [],
   "source": [
    "reason_columns.columns.values"
   ]
  },
  {
   "cell_type": "code",
   "execution_count": null,
   "id": "e08c7335-7c99-4cc0-984c-44ca99b0f88a",
   "metadata": {},
   "outputs": [],
   "source": [
    "df = df.drop(['Reason for Absence'], axis = 1)"
   ]
  },
  {
   "cell_type": "code",
   "execution_count": null,
   "id": "c2523228-c392-47c6-aba4-415474a1e17d",
   "metadata": {},
   "outputs": [],
   "source": [
    "df"
   ]
  },
  {
   "cell_type": "code",
   "execution_count": null,
   "id": "e8f0678d-ffbe-471e-9b78-7f07ea531f62",
   "metadata": {},
   "outputs": [],
   "source": [
    "reason_type_1 = reason_columns.loc[:,1:14].max(axis=1)\n",
    "reason_type_2 = reason_columns.loc[:,15:17].max(axis=1)\n",
    "reason_type_3 = reason_columns.loc[:,18:21].max(axis=1)\n",
    "reason_type_4 = reason_columns.loc[:,22:].max(axis=1)"
   ]
  },
  {
   "cell_type": "code",
   "execution_count": null,
   "id": "97b8f41b-845e-4588-bcfa-10a65f2de88a",
   "metadata": {},
   "outputs": [],
   "source": [
    "reason_type_2"
   ]
  },
  {
   "cell_type": "markdown",
   "id": "63d4d247-6637-4e4f-96fd-bc71a8368ce5",
   "metadata": {},
   "source": [
    "Concatenate Columns"
   ]
  },
  {
   "cell_type": "code",
   "execution_count": null,
   "id": "c2862578-c80d-400c-90f7-4a0b2fcd46f3",
   "metadata": {},
   "outputs": [],
   "source": [
    "df"
   ]
  },
  {
   "cell_type": "code",
   "execution_count": null,
   "id": "340b3f12-cf42-4e29-9b20-1e3b244f10d8",
   "metadata": {},
   "outputs": [],
   "source": [
    "df = pd.concat([df, reason_type_1, reason_type_2, reason_type_3, reason_type_4], axis = 1)"
   ]
  },
  {
   "cell_type": "code",
   "execution_count": null,
   "id": "44e3302d-8367-48d8-9dbb-0b9251a1a69e",
   "metadata": {},
   "outputs": [],
   "source": [
    "df"
   ]
  },
  {
   "cell_type": "code",
   "execution_count": null,
   "id": "6bf76a32-f32b-4b8e-baa2-2bb0306d7cc3",
   "metadata": {
    "scrolled": true
   },
   "outputs": [],
   "source": [
    "df.columns.values"
   ]
  },
  {
   "cell_type": "code",
   "execution_count": null,
   "id": "9333238f-1d37-469c-bc1d-1a29ddc54b11",
   "metadata": {},
   "outputs": [],
   "source": [
    "column_names = ['Date', 'Transportation Expense', 'Distance to Work', 'Age',\n",
    "       'Daily Work Load Average', 'Body Mass Index', 'Education',\n",
    "       'Children', 'Pets', 'Absenteeism Time in Hours', 'Reason_1', 'Reason_2', 'Reason_3', 'Reason_4']"
   ]
  },
  {
   "cell_type": "code",
   "execution_count": null,
   "id": "747d6619-8e7c-4999-bc6e-4c0f4062d111",
   "metadata": {},
   "outputs": [],
   "source": [
    "df.columns = column_names"
   ]
  },
  {
   "cell_type": "code",
   "execution_count": null,
   "id": "796e6fcf-9930-406d-8691-cfed844f56bc",
   "metadata": {},
   "outputs": [],
   "source": [
    "df.head()"
   ]
  },
  {
   "cell_type": "markdown",
   "id": "e0551034-65f8-48ee-b109-588fc296e014",
   "metadata": {},
   "source": [
    "Reorder Columns"
   ]
  },
  {
   "cell_type": "code",
   "execution_count": null,
   "id": "1bd18765-dc21-49c4-aee5-629efadaa303",
   "metadata": {},
   "outputs": [],
   "source": [
    "column_names_reordered = ['Reason_1', 'Reason_2', 'Reason_3', 'Reason_4', 'Date', 'Transportation Expense', 'Distance to Work', 'Age',\n",
    "       'Daily Work Load Average', 'Body Mass Index', 'Education',\n",
    "       'Children', 'Pets', 'Absenteeism Time in Hours']"
   ]
  },
  {
   "cell_type": "code",
   "execution_count": null,
   "id": "fb46298b-5045-41dd-8688-95b4a45c6eb7",
   "metadata": {},
   "outputs": [],
   "source": [
    "df = df[column_names_reordered]"
   ]
  },
  {
   "cell_type": "code",
   "execution_count": null,
   "id": "36459d2f-9e27-4365-b207-5bbcb52bfd50",
   "metadata": {},
   "outputs": [],
   "source": [
    "df"
   ]
  },
  {
   "cell_type": "code",
   "execution_count": null,
   "id": "e1055998-2db5-47b6-9565-e8a067e074a7",
   "metadata": {},
   "outputs": [],
   "source": [
    "df_checkpoint = df.copy()"
   ]
  },
  {
   "cell_type": "code",
   "execution_count": null,
   "id": "72f6b083-ecff-4ba7-a6f0-6fb4530ba9a6",
   "metadata": {},
   "outputs": [],
   "source": [
    "df_checkpoint"
   ]
  },
  {
   "cell_type": "markdown",
   "id": "8b4cd532-bdfc-4cf7-96e3-6dc948c3746f",
   "metadata": {},
   "source": [
    "'Date'"
   ]
  },
  {
   "cell_type": "code",
   "execution_count": null,
   "id": "7eef6d94-7263-404d-aaca-d282e723862e",
   "metadata": {},
   "outputs": [],
   "source": [
    "df_checkpoint['Date'][0]"
   ]
  },
  {
   "cell_type": "code",
   "execution_count": null,
   "id": "c7cce9f8-54a7-4e28-8682-13d93b504a63",
   "metadata": {},
   "outputs": [],
   "source": [
    "type(df_checkpoint['Date'][0])"
   ]
  },
  {
   "cell_type": "code",
   "execution_count": null,
   "id": "22ec80b1-030c-4688-b72b-6a9b87b5e032",
   "metadata": {},
   "outputs": [],
   "source": [
    "df_checkpoint['Date'] = pd.to_datetime(df_checkpoint['Date'], format = '%d/%m/%Y')"
   ]
  },
  {
   "cell_type": "code",
   "execution_count": null,
   "id": "23d34ef1-2946-4c10-b047-6d86107167d4",
   "metadata": {},
   "outputs": [],
   "source": [
    "df_checkpoint['Date']"
   ]
  },
  {
   "cell_type": "code",
   "execution_count": null,
   "id": "de7c1db3-7393-4c1b-8426-962d9da3450e",
   "metadata": {},
   "outputs": [],
   "source": [
    "df_checkpoint.info()"
   ]
  },
  {
   "cell_type": "markdown",
   "id": "234cd699-7c01-4c55-9538-11c8b427e605",
   "metadata": {},
   "source": [
    "Extract the Month Value"
   ]
  },
  {
   "cell_type": "code",
   "execution_count": null,
   "id": "ea129357-78f3-49eb-ad3b-070abf3c1208",
   "metadata": {},
   "outputs": [],
   "source": [
    "df_checkpoint['Date'][0]"
   ]
  },
  {
   "cell_type": "code",
   "execution_count": null,
   "id": "93633704-38d9-41f3-8682-ff8d750daace",
   "metadata": {},
   "outputs": [],
   "source": [
    "df_checkpoint['Date'][0].month"
   ]
  },
  {
   "cell_type": "code",
   "execution_count": null,
   "id": "d385682a-16ff-4a7e-b722-8b3a65fe6172",
   "metadata": {},
   "outputs": [],
   "source": [
    "list_months = []\n",
    "list_months"
   ]
  },
  {
   "cell_type": "code",
   "execution_count": null,
   "id": "757cdff3-182a-4608-af59-36a9e7734a8d",
   "metadata": {},
   "outputs": [],
   "source": [
    "df_checkpoint['Date'].shape"
   ]
  },
  {
   "cell_type": "code",
   "execution_count": null,
   "id": "5b0881fa-b76d-44a7-b9ee-20166307407c",
   "metadata": {},
   "outputs": [],
   "source": [
    "for i in range(0,700,1):\n",
    "    list_months.append(df_checkpoint['Date'][i].month)"
   ]
  },
  {
   "cell_type": "code",
   "execution_count": null,
   "id": "d598db88-ba1c-48eb-80fd-7c14f77883fa",
   "metadata": {},
   "outputs": [],
   "source": [
    "list_months"
   ]
  },
  {
   "cell_type": "code",
   "execution_count": null,
   "id": "f4fc0ff8-d71d-4e5f-bdd5-41e4ae458545",
   "metadata": {},
   "outputs": [],
   "source": [
    "len(list_months)"
   ]
  },
  {
   "cell_type": "code",
   "execution_count": null,
   "id": "7cc1d7e8-508c-449d-8440-b48301f53e36",
   "metadata": {},
   "outputs": [],
   "source": [
    "df_checkpoint['Month Value'] = list_months"
   ]
  },
  {
   "cell_type": "code",
   "execution_count": null,
   "id": "d7420c4a-9a64-4093-8ad3-6fe98e081849",
   "metadata": {},
   "outputs": [],
   "source": [
    "df_checkpoint.head(10)"
   ]
  },
  {
   "cell_type": "markdown",
   "id": "88dbcc45-f138-41a8-aafa-7809fe6e7358",
   "metadata": {},
   "source": [
    "Extract Day of Week"
   ]
  },
  {
   "cell_type": "code",
   "execution_count": null,
   "id": "bab74527-da4e-4257-ab8a-50929dbe7a78",
   "metadata": {},
   "outputs": [],
   "source": [
    "df_checkpoint['Date'][1].weekday()"
   ]
  },
  {
   "cell_type": "code",
   "execution_count": null,
   "id": "fa3b0e8f-330a-497d-bca5-d1b173cc6854",
   "metadata": {},
   "outputs": [],
   "source": [
    "list_weekday = []"
   ]
  },
  {
   "cell_type": "code",
   "execution_count": null,
   "id": "0dfde866-63f4-4d50-bc6a-b0a577622004",
   "metadata": {},
   "outputs": [],
   "source": [
    "for i in range(0,700,1):\n",
    "    list_weekday.append(df_checkpoint['Date'][i].weekday())"
   ]
  },
  {
   "cell_type": "code",
   "execution_count": null,
   "id": "ce5695a1-d2f1-433e-b55b-8ec4b3e9eca5",
   "metadata": {},
   "outputs": [],
   "source": [
    "list_weekday"
   ]
  },
  {
   "cell_type": "code",
   "execution_count": null,
   "id": "4bcbba1c-b5fc-41f2-835d-832dfc9fc60a",
   "metadata": {},
   "outputs": [],
   "source": [
    "df_checkpoint['Day of the Week'] = list_weekday"
   ]
  },
  {
   "cell_type": "code",
   "execution_count": null,
   "id": "6fa59509-acc6-4560-ae30-56e862a0ed38",
   "metadata": {},
   "outputs": [],
   "source": [
    "df_checkpoint.head()"
   ]
  },
  {
   "cell_type": "markdown",
   "id": "475c202b-e65a-4441-b405-0ae5f751e9bf",
   "metadata": {},
   "source": [
    "Education"
   ]
  },
  {
   "cell_type": "code",
   "execution_count": null,
   "id": "24e74161-9884-475a-a401-c4e81ccf1223",
   "metadata": {},
   "outputs": [],
   "source": [
    "df_checkpoint['Education']"
   ]
  },
  {
   "cell_type": "code",
   "execution_count": null,
   "id": "cc8fa328-4024-4611-afe1-8a16d9fa008f",
   "metadata": {},
   "outputs": [],
   "source": [
    "df_checkpoint['Education'].unique()"
   ]
  },
  {
   "cell_type": "code",
   "execution_count": null,
   "id": "711ad8f2-472f-4ff8-949c-e14b9fbc2d41",
   "metadata": {},
   "outputs": [],
   "source": [
    "df_checkpoint['Education'].value_counts()"
   ]
  },
  {
   "cell_type": "code",
   "execution_count": null,
   "id": "fc351448-edee-40e0-bc4e-aacc0f2b1f8d",
   "metadata": {},
   "outputs": [],
   "source": [
    "df_checkpoint['Education'] = df_checkpoint['Education'].map({1:0, 2:1, 3:1, 4:1})"
   ]
  },
  {
   "cell_type": "code",
   "execution_count": null,
   "id": "be2334ea-4566-40a0-b17a-b4bc7c21b4e2",
   "metadata": {},
   "outputs": [],
   "source": [
    "df_checkpoint['Education'].unique()"
   ]
  },
  {
   "cell_type": "code",
   "execution_count": null,
   "id": "5e03a5f3-e19d-4e86-a802-958a46cae681",
   "metadata": {},
   "outputs": [],
   "source": [
    "df_checkpoint['Education'].value_counts()"
   ]
  },
  {
   "cell_type": "code",
   "execution_count": null,
   "id": "724719e0-879e-428b-898d-567697e912c6",
   "metadata": {},
   "outputs": [],
   "source": [
    "df_cleaned = df_checkpoint.copy()"
   ]
  },
  {
   "cell_type": "code",
   "execution_count": null,
   "id": "8a41dab8-1368-488a-b497-bfbb54d806b4",
   "metadata": {},
   "outputs": [],
   "source": [
    "df_cleaned.head(10)"
   ]
  },
  {
   "cell_type": "markdown",
   "id": "77b1522f-c691-4985-9a14-a236a175e223",
   "metadata": {},
   "source": [
    "Storing the Dataset"
   ]
  },
  {
   "cell_type": "code",
   "execution_count": null,
   "id": "df9e0bd9-4c25-41f9-bc99-57abfdbc5043",
   "metadata": {},
   "outputs": [],
   "source": [
    "np.savetxt('Absenteeism-processed.csv',\n",
    "           df_cleaned,\n",
    "           fmt = \"%s\",\n",
    "           delimiter = ',')\n",
    "           "
   ]
  },
  {
   "cell_type": "code",
   "execution_count": null,
   "id": "2e1478aa-225e-4c90-83b2-bf76b6d33044",
   "metadata": {},
   "outputs": [],
   "source": []
  }
 ],
 "metadata": {
  "kernelspec": {
   "display_name": "Python 3 (ipykernel)",
   "language": "python",
   "name": "python3"
  },
  "language_info": {
   "codemirror_mode": {
    "name": "ipython",
    "version": 3
   },
   "file_extension": ".py",
   "mimetype": "text/x-python",
   "name": "python",
   "nbconvert_exporter": "python",
   "pygments_lexer": "ipython3",
   "version": "3.11.7"
  }
 },
 "nbformat": 4,
 "nbformat_minor": 5
}
